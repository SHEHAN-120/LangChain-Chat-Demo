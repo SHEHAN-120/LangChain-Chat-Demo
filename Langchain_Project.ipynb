{
 "cells": [
  {
   "cell_type": "code",
   "execution_count": null,
   "id": "74653414",
   "metadata": {},
   "outputs": [],
   "source": [
    "import os\n",
    "os.environ['OPENAI_API_KEY']=\"ABC\""
   ]
  },
  {
   "cell_type": "code",
   "execution_count": 12,
   "id": "97f32866",
   "metadata": {},
   "outputs": [],
   "source": [
    "from langchain_openai import ChatOpenAI\n",
    "from langchain.schema import HumanMessage, SystemMessage,AIMessage"
   ]
  },
  {
   "cell_type": "code",
   "execution_count": 13,
   "id": "5a85d2f0",
   "metadata": {},
   "outputs": [],
   "source": [
    "chat=ChatOpenAI()"
   ]
  },
  {
   "cell_type": "code",
   "execution_count": 14,
   "id": "8deca8ee",
   "metadata": {},
   "outputs": [
    {
     "data": {
      "text/plain": [
       "'You should consider visiting Aspen, Colorado for skiing.'"
      ]
     },
     "execution_count": 14,
     "metadata": {},
     "output_type": "execute_result"
    }
   ],
   "source": [
    "messages = [\n",
    "    {\n",
    "        \"role\": \"system\",\n",
    "        \"content\": \"You are helpful AI that helps the user make travel plans. Respond only in a single line.\",\n",
    "    },\n",
    "    {\n",
    "        \"role\": \"user\",\n",
    "        \"content\": \"I want to go skiing. Which city should I go to?\"\n",
    "    }\n",
    "]\n",
    "\n",
    "first_msg = chat.invoke(messages)\n",
    "first_msg.content\n"
   ]
  },
  {
   "cell_type": "code",
   "execution_count": 15,
   "id": "b1c25e97",
   "metadata": {},
   "outputs": [
    {
     "name": "stdout",
     "output_type": "stream",
     "text": [
      "53\n"
     ]
    }
   ],
   "source": [
    "print(first_msg.usage_metadata[\"total_tokens\"])"
   ]
  },
  {
   "cell_type": "code",
   "execution_count": 16,
   "id": "67bae79f",
   "metadata": {},
   "outputs": [],
   "source": [
    "from langchain_openai import OpenAI"
   ]
  },
  {
   "cell_type": "code",
   "execution_count": 17,
   "id": "ea693a5c",
   "metadata": {},
   "outputs": [
    {
     "name": "stderr",
     "output_type": "stream",
     "text": [
      "C:\\Users\\SHEHAN\\AppData\\Local\\Temp\\ipykernel_7688\\2911383115.py:2: LangChainDeprecationWarning: The method `BaseLLM.predict` was deprecated in langchain-core 0.1.7 and will be removed in 1.0. Use :meth:`~invoke` instead.\n",
      "  city=llm.predict(\"I want to go skiing. Which city should i go to?\")\n"
     ]
    },
    {
     "name": "stdout",
     "output_type": "stream",
     "text": [
      "\n",
      "\n",
      "There are many great cities to go skiing in, depending on what you are looking for in a ski trip. Some popular options include:\n",
      "\n",
      "1. Aspen, Colorado: Known for its luxurious ski resorts and challenging slopes, Aspen is a popular destination for skiers of all levels.\n",
      "\n",
      "2. Whistler, British Columbia: This Canadian city is home to Whistler Blackcomb, one of the largest ski resorts in North America with over 8,000 acres of skiable terrain.\n",
      "\n",
      "3. Park City, Utah: Host of the 2002 Winter Olympics, Park City offers a variety of ski resorts and activities, as well as a charming downtown area.\n",
      "\n",
      "4. St. Moritz, Switzerland: This upscale resort town is known for its glamorous atmosphere and world-class skiing.\n",
      "\n",
      "5. Niseko, Japan: Renowned for its deep powder and stunning mountain scenery, Niseko is a popular destination for skiers and snowboarders.\n",
      "\n",
      "Ultimately, the best city for you to go skiing will depend on your personal preferences and budget. Research different options and choose a destination that suits your needs and interests. \n"
     ]
    }
   ],
   "source": [
    "llm=OpenAI()\n",
    "city=llm.predict(\"I want to go skiing. Which city should i go to?\")\n",
    "print(city)"
   ]
  },
  {
   "cell_type": "code",
   "execution_count": 18,
   "id": "69991e02",
   "metadata": {},
   "outputs": [
    {
     "name": "stdout",
     "output_type": "stream",
     "text": [
      "\n",
      "\n",
      "1. Visit the Grand Palace: This iconic landmark is the official residence of the Thai royal family and a must-see for its intricate architecture and beautiful gardens.\n",
      "\n",
      "2. Explore the Chatuchak Weekend Market: With over 8,000 stalls, this market is a shopaholic's paradise. You can find everything from clothing and accessories to handicrafts and souvenirs.\n",
      "\n",
      "3. Take a boat tour of the Chao Phraya River: See the city from a different perspective and learn about its history and culture while cruising along the river.\n",
      "\n",
      "4. Visit the Wat Pho Temple: Known for its giant reclining Buddha statue and traditional Thai massage school, this temple is a popular tourist attraction.\n",
      "\n",
      "5. Try street food: Bangkok is known for its delicious and affordable street food. Be sure to try local favorites like pad thai, som tam, and mango sticky rice.\n",
      "\n",
      "6. Take a cooking class: Learn how to make authentic Thai dishes by taking a cooking class. Many schools offer hands-on classes where you can learn about Thai ingredients and cooking techniques.\n",
      "\n",
      "7. Visit the Jim Thompson House: This museum showcases the beautiful teakwood house of Jim Thompson, an American businessman who played a major role in reviving the Thai silk industry.\n",
      "\n",
      "8. Experience\n"
     ]
    }
   ],
   "source": [
    "places=llm.predict(\"What else can i do in that city?\")\n",
    "print(places)"
   ]
  },
  {
   "cell_type": "code",
   "execution_count": 20,
   "id": "e2a651b7",
   "metadata": {},
   "outputs": [],
   "source": [
    "from langchain_core.prompts import PromptTemplate"
   ]
  },
  {
   "cell_type": "code",
   "execution_count": 21,
   "id": "8982f3d0",
   "metadata": {},
   "outputs": [],
   "source": [
    "from langchain.chains import LLMChain"
   ]
  },
  {
   "cell_type": "code",
   "execution_count": 22,
   "id": "71a2700e",
   "metadata": {},
   "outputs": [
    {
     "name": "stderr",
     "output_type": "stream",
     "text": [
      "C:\\Users\\SHEHAN\\AppData\\Local\\Temp\\ipykernel_7688\\2196563985.py:6: LangChainDeprecationWarning: The class `LLMChain` was deprecated in LangChain 0.1.17 and will be removed in 1.0. Use :meth:`~RunnableSequence, e.g., `prompt | llm`` instead.\n",
      "  chain = LLMChain(llm=llm, prompt=prompt)\n"
     ]
    }
   ],
   "source": [
    "llm = OpenAI(temperature=0.9)\n",
    "prompt = PromptTemplate(\n",
    "    input_variables=[\"image_desc\"],\n",
    "    template=\"Generate a detailed prompt to generate an image based on the following description: {image_desc}\",\n",
    ")\n",
    "chain = LLMChain(llm=llm, prompt=prompt)"
   ]
  },
  {
   "cell_type": "code",
   "execution_count": 23,
   "id": "70e2149b",
   "metadata": {},
   "outputs": [
    {
     "name": "stdout",
     "output_type": "stream",
     "text": [
      "Give me a one line definition of Apples. Then, give one example of how it is used.\n"
     ]
    }
   ],
   "source": [
    "from langchain import PromptTemplate\n",
    "\n",
    "dictionary_template=PromptTemplate(\n",
    "    input_variable=['word'],\n",
    "    template=\"Give me a one line definition of {word}. Then, give one example of how it is used.\"\n",
    ")\n",
    "p=dictionary_template.format(word=\"Apples\")\n",
    "print(p)"
   ]
  },
  {
   "cell_type": "code",
   "execution_count": 24,
   "id": "074be045",
   "metadata": {},
   "outputs": [
    {
     "name": "stdout",
     "output_type": "stream",
     "text": [
      "Apples are a type of fruit that are typically sweet and crunchy, grown on trees. \n",
      "\n",
      "Example: \"I packed an apple in my lunch to have as a healthy snack during the day.\"\n"
     ]
    }
   ],
   "source": [
    "openAILLM=ChatOpenAI()\n",
    "print(openAILLM.invoke(p).content)"
   ]
  },
  {
   "cell_type": "code",
   "execution_count": 25,
   "id": "1130ca8a",
   "metadata": {},
   "outputs": [
    {
     "name": "stdout",
     "output_type": "stream",
     "text": [
      "Give me a one line definition of Apple. Then give me the translation of that word in Japan.\n",
      "Apple is a multinational technology company known for its consumer electronics products. \n",
      "\n",
      "Translation in Japanese: アップル (Appuru)\n"
     ]
    }
   ],
   "source": [
    "from langchain import PromptTemplate\n",
    "\n",
    "def_translate=PromptTemplate(\n",
    "    input_variables=['word','language'],\n",
    "    template=\"Give me a one line definition of {word}. Then give me the translation of that word in {language}.\"\n",
    "\n",
    ")\n",
    "p=def_translate.format(word=\"Apple\",language=\"Japan\")\n",
    "print(p)\n",
    "print(chat.invoke(p).content)"
   ]
  },
  {
   "cell_type": "code",
   "execution_count": 26,
   "id": "ef3d707b",
   "metadata": {},
   "outputs": [],
   "source": [
    "import tkinter as tk\n",
    "from tkinter import simpledialog"
   ]
  },
  {
   "cell_type": "code",
   "execution_count": 27,
   "id": "7f2909eb",
   "metadata": {},
   "outputs": [
    {
     "name": "stdout",
     "output_type": "stream",
     "text": [
      "A round fruit with red or green skin and white flesh surrounding a core containing seeds.\n",
      "\n",
      "Example: I ate a crisp and juicy apple for a snack.\n"
     ]
    }
   ],
   "source": [
    "ROOT=tk.Tk()\n",
    "ROOT.withdraw()\n",
    "\n",
    "user_input=simpledialog.askstring(title=\"Quick Dictionary\",\n",
    "                                  prompt=\"Enter the word you want to learn about:\")\n",
    "\n",
    "dictionary_template=PromptTemplate(\n",
    "    input_variables=['word'],\n",
    "    template=\"Give me a one line definition of {word}. Then , give one example of how it used.\"\n",
    ")\n",
    "\n",
    "p=dictionary_template.format(word=user_input)\n",
    "print(chat.invoke(p).content)"
   ]
  },
  {
   "cell_type": "code",
   "execution_count": 28,
   "id": "5519ea98",
   "metadata": {},
   "outputs": [
    {
     "data": {
      "text/plain": [
       "[SystemMessage(content='You are a helpful assistant that gives a one line definition of the word entered by user', additional_kwargs={}, response_metadata={}),\n",
       " HumanMessage(content='Apple', additional_kwargs={}, response_metadata={})]"
      ]
     },
     "execution_count": 28,
     "metadata": {},
     "output_type": "execute_result"
    }
   ],
   "source": [
    "from langchain_core.prompts import ChatPromptTemplate\n",
    "chat_template=ChatPromptTemplate.from_messages(\n",
    "    [\n",
    "        (\"system\",\"You are a helpful assistant that gives a one line definition of the word entered by user\"),\n",
    "        (\"human\",\"{user_input}\"),\n",
    "    ]\n",
    ")\n",
    "messages=chat_template.format_messages(user_input=\"Apple\")\n",
    "messages"
   ]
  },
  {
   "cell_type": "code",
   "execution_count": 29,
   "id": "68c2a2f8",
   "metadata": {},
   "outputs": [
    {
     "data": {
      "text/plain": [
       "[SystemMessage(content='You are a helpful assistant that gives a one line answer to user query', additional_kwargs={}, response_metadata={}),\n",
       " HumanMessage(content='who created theory of relativity?', additional_kwargs={}, response_metadata={}),\n",
       " AIMessage(content='Albert Einstein developed the thoery of relativity', additional_kwargs={}, response_metadata={}),\n",
       " HumanMessage(content='when was it created?', additional_kwargs={}, response_metadata={})]"
      ]
     },
     "execution_count": 29,
     "metadata": {},
     "output_type": "execute_result"
    }
   ],
   "source": [
    "from langchain_core.prompts import ChatPromptTemplate\n",
    "chat_template=ChatPromptTemplate.from_messages(\n",
    "    [\n",
    "        (\"system\",\"You are a helpful assistant that gives a one line answer to user query\"),\n",
    "        (\"human\",\"who created theory of relativity?\"),\n",
    "        (\"ai\",\"Albert Einstein developed the thoery of relativity\"),\n",
    "        (\"human\", \"{user_input}\")\n",
    "    ]\n",
    ")\n",
    "messages=chat_template.format_messages(user_input=\"when was it created?\")\n",
    "messages"
   ]
  },
  {
   "cell_type": "code",
   "execution_count": 30,
   "id": "7625333f",
   "metadata": {},
   "outputs": [
    {
     "data": {
      "text/plain": [
       "[SystemMessage(content='You are a helpful assistant that gives a one line definition of the word entered by user', additional_kwargs={}, response_metadata={}),\n",
       " HumanMessage(content='Callows', additional_kwargs={}, response_metadata={})]"
      ]
     },
     "execution_count": 30,
     "metadata": {},
     "output_type": "execute_result"
    }
   ],
   "source": [
    "from langchain_core.prompts import HumanMessagePromptTemplate,SystemMessagePromptTemplate,AIMessagePromptTemplate\n",
    "chat_template=ChatPromptTemplate.from_messages(\n",
    "    [\n",
    "        SystemMessagePromptTemplate.from_template(\"You are a helpful assistant that gives a one line definition of the word entered by user\"),\n",
    "        HumanMessagePromptTemplate.from_template(\"{input}\"),\n",
    "    ]\n",
    ")\n",
    "messages=chat_template.format_messages(input=\"Callows\")\n",
    "messages"
   ]
  },
  {
   "cell_type": "code",
   "execution_count": 35,
   "id": "4d4cde35",
   "metadata": {},
   "outputs": [
    {
     "name": "stdout",
     "output_type": "stream",
     "text": [
      "Identify the sentiment of the user review. Here are some examples:\n",
      "\n",
      "User:I love this product\n",
      "AI:positive\n",
      "\n",
      "\n",
      "User:It was an average experience\n",
      "AI:neutral\n",
      "\n",
      "\n",
      "User:I wonder why it is so highly rated.\n",
      "AI:negative\n",
      "\n",
      "\n",
      "User:What is the meaninig of Deep learninig?\n",
      "AI: \n"
     ]
    }
   ],
   "source": [
    "from langchain import FewShotPromptTemplate\n",
    "\n",
    "examples=[\n",
    "    {\n",
    "        \"rev\":\"I love this product\",\n",
    "        \"answer\":\"positive\"\n",
    "    },{\n",
    "        \"rev\":\"It was an average experience\",\n",
    "        \"answer\":\"neutral\"\n",
    "    },{\n",
    "        \"rev\":\"I wonder why it is so highly rated.\",\n",
    "        \"answer\":\"negative\"\n",
    "    }\n",
    "    \n",
    "]\n",
    "\n",
    "example_prompt=PromptTemplate(\n",
    "    input_variables=[\"rev\",\"answer\"],\n",
    "    template= \"\"\"\n",
    "User:{rev}\n",
    "AI:{answer}\n",
    "\"\"\"\n",
    ")\n",
    "\n",
    "prefix=\"Identify the sentiment of the user review. Here are some examples:\"\n",
    "suffix=\"\"\"\n",
    "User:{review}\n",
    "AI: \"\"\"\n",
    "\n",
    "few_shot_prompt_template=FewShotPromptTemplate(\n",
    "    examples=examples,\n",
    "    example_prompt=example_prompt,\n",
    "    prefix=prefix,\n",
    "    suffix=suffix,\n",
    "    input_variables=[\"review\"],\n",
    "    example_separator=\"\\n\"\n",
    ")\n",
    "\n",
    "user_review=\"What is the meaninig of Deep learninig?\"\n",
    "print(few_shot_prompt_template.format(review=user_review))"
   ]
  },
  {
   "cell_type": "code",
   "execution_count": 39,
   "id": "1bbebba1",
   "metadata": {},
   "outputs": [
    {
     "name": "stdout",
     "output_type": "stream",
     "text": [
      "neutral\n"
     ]
    }
   ],
   "source": [
    "chat = ChatOpenAI(temperature=0) \n",
    "formatted_prompt = few_shot_prompt_template.format(review=user_review)\n",
    "response = chat.invoke([HumanMessage(content=formatted_prompt)])\n",
    "print(response.content)\n",
    "\n"
   ]
  }
 ],
 "metadata": {
  "kernelspec": {
   "display_name": "langchain",
   "language": "python",
   "name": "python3"
  },
  "language_info": {
   "codemirror_mode": {
    "name": "ipython",
    "version": 3
   },
   "file_extension": ".py",
   "mimetype": "text/x-python",
   "name": "python",
   "nbconvert_exporter": "python",
   "pygments_lexer": "ipython3",
   "version": "3.11.0"
  }
 },
 "nbformat": 4,
 "nbformat_minor": 5
}
